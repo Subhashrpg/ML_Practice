{
 "cells": [
  {
   "cell_type": "markdown",
   "id": "94c58395",
   "metadata": {},
   "source": [
    "#  Multicollinearity\n",
    "conllinearity refers to statistical phenomenon in which two or more predictor variables are closely related to one another"
   ]
  },
  {
   "cell_type": "code",
   "execution_count": null,
   "id": "71100620",
   "metadata": {},
   "outputs": [],
   "source": [
    "import numpy as np\n",
    "import pandas as pd\n",
    "import matplotlib.pyplot as plt\n",
    "import seaborn as sns\n"
   ]
  },
  {
   "cell_type": "markdown",
   "id": "12039beb",
   "metadata": {
    "jp-MarkdownHeadingCollapsed": true
   },
   "source": [
    "### 1. Condition Number"
   ]
  },
  {
   "cell_type": "code",
   "execution_count": 42,
   "id": "6649a11c",
   "metadata": {},
   "outputs": [
    {
     "name": "stdout",
     "output_type": "stream",
     "text": [
      "array [[ 1.   1.   1.2]\n",
      " [ 1.   2.   2.1]\n",
      " [ 1.   3.   3.1]\n",
      " [ 1.   4.   4.1]\n",
      " [ 1.   5.   5. ]\n",
      " [ 1.   6.   6. ]\n",
      " [ 1.   7.   7. ]\n",
      " [ 1.   8.   8. ]\n",
      " [ 1.   9.   9.1]\n",
      " [ 1.  10.  10.2]]\n",
      "\n",
      "=========================================\n",
      "condition number==> 29104.19736328427\n",
      "[[  0.67713004   1.89686099  -1.97309417]\n",
      " [  1.89686099  18.3309417  -18.40807175]\n",
      " [ -1.97309417 -18.40807175  18.49775785]]\n",
      "------------------------------------------\n",
      "[[  0.579715     1.55493605  -1.62140011]\n",
      " [  1.55493605  24.45470752 -24.42659041]\n",
      " [ -1.62140011 -24.42659041  24.41073715]]\n",
      "=========================================\n"
     ]
    }
   ],
   "source": [
    "# linearly related array\n",
    "arr = np.array([[1,1,1,1,1,1,1,1,1,1],[1, 2, 3, 4, 5, 6, 7, 8, 9, 10],[1.2, 2.1, 3.1, 4.1, 5.0, 6.0, 7.0, 8.0, 9.1, 10.2]]).T\n",
    "print(\"array\",arr)\n",
    "print()\n",
    "print(\"=========================================\")\n",
    "print(\"condition number==>\",np.linalg.cond(np.dot(arr.T,arr)))\n",
    "print(np.linalg.inv(np.dot(arr.T,arr)))\n",
    "print(\"------------------------------------------\")\n",
    "\n",
    "# a small change in input there is big change in inv\n",
    "arr = np.array([[1,1,1,1,1,1,1,1,1,1],[1.1, 2, 3, 4, 5, 6, 7, 8, 9, 10],[1.2, 2.1, 3.1, 4.1, 5.0, 6.0, 7.0, 8.0, 9.1, 10.2]]).T\n",
    "print(np.linalg.inv(np.dot(arr.T,arr)))\n",
    "print(\"=========================================\")"
   ]
  },
  {
   "cell_type": "code",
   "execution_count": 44,
   "id": "b6eeb782",
   "metadata": {},
   "outputs": [
    {
     "name": "stdout",
     "output_type": "stream",
     "text": [
      "=========================================\n",
      "condition number==> 341.0403652956386\n",
      "[[ 0.46684896 -0.06359872 -0.00341803]\n",
      " [-0.06359872  0.06375331 -0.05752395]\n",
      " [-0.00341803 -0.05752395  0.06408812]]\n",
      "------------------------------------------\n",
      "[[ 0.49599863 -0.03845293 -0.03548221]\n",
      " [-0.03845293  0.03925935 -0.03412952]\n",
      " [-0.03548221 -0.03412952  0.04292203]]\n",
      "=========================================\n"
     ]
    }
   ],
   "source": [
    "# non linear data\n",
    "arr = np.array([[1,1,1,1,1,1,1,1,1,1],[1, 2, 3, 4, 5, 6, 7, 8, 9, 10],[2.4, 0.7, 4.3, 3.5, 1.6, 5.1, 6.9, 7.5, 8.1, 9.8]]).T\n",
    "print(\"=========================================\")\n",
    "print(\"condition number==>\",np.linalg.cond(np.dot(arr.T,arr)))\n",
    "print(np.linalg.inv(np.dot(arr.T,arr)))\n",
    "print(\"------------------------------------------\")\n",
    "# changing input variables \n",
    "arr = np.array([[1,1,1,1,1,1,1,1,1,1],[1, 2, 3, 4, 5, 6, 7, 8, 9, 10],[4, 0.7, 4.8, 3.5, 1.6, 5.1, 6.9, 7.5, 8.1, 9.8]]).T\n",
    "print(np.linalg.inv(np.dot(arr.T,arr)))z\n",
    "print(\"=========================================\")"
   ]
  },
  {
   "cell_type": "markdown",
   "id": "1abb84bb",
   "metadata": {
    "jp-MarkdownHeadingCollapsed": true
   },
   "source": [
    "### 2. Correlation"
   ]
  },
  {
   "cell_type": "code",
   "execution_count": 51,
   "id": "02f799b8",
   "metadata": {},
   "outputs": [
    {
     "data": {
      "text/html": [
       "<div>\n",
       "<style scoped>\n",
       "    .dataframe tbody tr th:only-of-type {\n",
       "        vertical-align: middle;\n",
       "    }\n",
       "\n",
       "    .dataframe tbody tr th {\n",
       "        vertical-align: top;\n",
       "    }\n",
       "\n",
       "    .dataframe thead th {\n",
       "        text-align: right;\n",
       "    }\n",
       "</style>\n",
       "<table border=\"1\" class=\"dataframe\">\n",
       "  <thead>\n",
       "    <tr style=\"text-align: right;\">\n",
       "      <th></th>\n",
       "      <th>constant</th>\n",
       "      <th>TV</th>\n",
       "      <th>Radio</th>\n",
       "      <th>Newspaper</th>\n",
       "      <th>Sales</th>\n",
       "    </tr>\n",
       "  </thead>\n",
       "  <tbody>\n",
       "    <tr>\n",
       "      <th>0</th>\n",
       "      <td>0</td>\n",
       "      <td>230.1</td>\n",
       "      <td>37.8</td>\n",
       "      <td>69.2</td>\n",
       "      <td>22.1</td>\n",
       "    </tr>\n",
       "    <tr>\n",
       "      <th>1</th>\n",
       "      <td>1</td>\n",
       "      <td>44.5</td>\n",
       "      <td>39.3</td>\n",
       "      <td>45.1</td>\n",
       "      <td>10.4</td>\n",
       "    </tr>\n",
       "    <tr>\n",
       "      <th>2</th>\n",
       "      <td>2</td>\n",
       "      <td>17.2</td>\n",
       "      <td>45.9</td>\n",
       "      <td>69.3</td>\n",
       "      <td>12.0</td>\n",
       "    </tr>\n",
       "    <tr>\n",
       "      <th>3</th>\n",
       "      <td>3</td>\n",
       "      <td>151.5</td>\n",
       "      <td>41.3</td>\n",
       "      <td>58.5</td>\n",
       "      <td>16.5</td>\n",
       "    </tr>\n",
       "    <tr>\n",
       "      <th>4</th>\n",
       "      <td>4</td>\n",
       "      <td>180.8</td>\n",
       "      <td>10.8</td>\n",
       "      <td>58.4</td>\n",
       "      <td>17.9</td>\n",
       "    </tr>\n",
       "  </tbody>\n",
       "</table>\n",
       "</div>"
      ],
      "text/plain": [
       "   constant     TV  Radio  Newspaper  Sales\n",
       "0         0  230.1   37.8       69.2   22.1\n",
       "1         1   44.5   39.3       45.1   10.4\n",
       "2         2   17.2   45.9       69.3   12.0\n",
       "3         3  151.5   41.3       58.5   16.5\n",
       "4         4  180.8   10.8       58.4   17.9"
      ]
     },
     "execution_count": 51,
     "metadata": {},
     "output_type": "execute_result"
    }
   ],
   "source": [
    "df = pd.read_csv(\"advertising.csv\")\n",
    "df = df.reset_index().rename(columns= {\"index\": \"constant\"})\n",
    "df.head()"
   ]
  },
  {
   "cell_type": "code",
   "execution_count": 54,
   "id": "bdfa66bc",
   "metadata": {},
   "outputs": [
    {
     "data": {
      "text/plain": [
       "<Axes: >"
      ]
     },
     "execution_count": 54,
     "metadata": {},
     "output_type": "execute_result"
    },
    {
     "data": {
      "image/png": "[encoded data removed]",
      "text/plain": [
       "<Figure size 640x480 with 2 Axes>"
      ]
     },
     "metadata": {},
     "output_type": "display_data"
    }
   ],
   "source": [
    "sns.heatmap(df.corr(),annot=True)"
   ]
  },
  {
   "cell_type": "markdown",
   "id": "760e4177",
   "metadata": {},
   "source": [
    "### 3. VIF (Variance Inflation Factor)"
   ]
  },
  {
   "cell_type": "code",
   "execution_count": 67,
   "id": "4c4c51ab",
   "metadata": {},
   "outputs": [
    {
     "data": {
      "text/html": [
       "<div>\n",
       "<style scoped>\n",
       "    .dataframe tbody tr th:only-of-type {\n",
       "        vertical-align: middle;\n",
       "    }\n",
       "\n",
       "    .dataframe tbody tr th {\n",
       "        vertical-align: top;\n",
       "    }\n",
       "\n",
       "    .dataframe thead th {\n",
       "        text-align: right;\n",
       "    }\n",
       "</style>\n",
       "<table border=\"1\" class=\"dataframe\">\n",
       "  <thead>\n",
       "    <tr style=\"text-align: right;\">\n",
       "      <th></th>\n",
       "      <th>TV</th>\n",
       "      <th>Radio</th>\n",
       "      <th>Newspaper</th>\n",
       "    </tr>\n",
       "  </thead>\n",
       "  <tbody>\n",
       "    <tr>\n",
       "      <th>vif</th>\n",
       "      <td>2.486772</td>\n",
       "      <td>3.285462</td>\n",
       "      <td>3.055245</td>\n",
       "    </tr>\n",
       "  </tbody>\n",
       "</table>\n",
       "</div>"
      ],
      "text/plain": [
       "           TV     Radio  Newspaper\n",
       "vif  2.486772  3.285462   3.055245"
      ]
     },
     "execution_count": 67,
     "metadata": {},
     "output_type": "execute_result"
    }
   ],
   "source": [
    "from statsmodels.stats.outliers_influence import variance_inflation_factor\n",
    "vif = []\n",
    "\n",
    "for i in range(3):\n",
    "    vif.append(variance_inflation_factor(df.iloc[:,1:4],i))\n",
    "    \n",
    "df_vif = pd.DataFrame({\"vif\": vif},index = df.iloc[:,1:4].columns).T\n",
    "df_vif"
   ]
  },
  {
   "cell_type": "code",
   "execution_count": 79,
   "id": "dda9c3bc",
   "metadata": {},
   "outputs": [
    {
     "data": {
      "text/html": [
       "<div>\n",
       "<style scoped>\n",
       "    .dataframe tbody tr th:only-of-type {\n",
       "        vertical-align: middle;\n",
       "    }\n",
       "\n",
       "    .dataframe tbody tr th {\n",
       "        vertical-align: top;\n",
       "    }\n",
       "\n",
       "    .dataframe thead th {\n",
       "        text-align: right;\n",
       "    }\n",
       "</style>\n",
       "<table border=\"1\" class=\"dataframe\">\n",
       "  <thead>\n",
       "    <tr style=\"text-align: right;\">\n",
       "      <th></th>\n",
       "      <th>x1</th>\n",
       "      <th>x2</th>\n",
       "      <th>x3</th>\n",
       "      <th>y</th>\n",
       "    </tr>\n",
       "  </thead>\n",
       "  <tbody>\n",
       "    <tr>\n",
       "      <th>x1</th>\n",
       "      <td>1.000000</td>\n",
       "      <td>0.882948</td>\n",
       "      <td>-0.048636</td>\n",
       "      <td>0.148108</td>\n",
       "    </tr>\n",
       "    <tr>\n",
       "      <th>x2</th>\n",
       "      <td>0.882948</td>\n",
       "      <td>1.000000</td>\n",
       "      <td>-0.054696</td>\n",
       "      <td>0.165352</td>\n",
       "    </tr>\n",
       "    <tr>\n",
       "      <th>x3</th>\n",
       "      <td>-0.048636</td>\n",
       "      <td>-0.054696</td>\n",
       "      <td>1.000000</td>\n",
       "      <td>0.071536</td>\n",
       "    </tr>\n",
       "    <tr>\n",
       "      <th>y</th>\n",
       "      <td>0.148108</td>\n",
       "      <td>0.165352</td>\n",
       "      <td>0.071536</td>\n",
       "      <td>1.000000</td>\n",
       "    </tr>\n",
       "  </tbody>\n",
       "</table>\n",
       "</div>"
      ],
      "text/plain": [
       "          x1        x2        x3         y\n",
       "x1  1.000000  0.882948 -0.048636  0.148108\n",
       "x2  0.882948  1.000000 -0.054696  0.165352\n",
       "x3 -0.048636 -0.054696  1.000000  0.071536\n",
       "y   0.148108  0.165352  0.071536  1.000000"
      ]
     },
     "execution_count": 79,
     "metadata": {},
     "output_type": "execute_result"
    }
   ],
   "source": [
    "from sklearn.datasets import make_regression\n",
    "import statsmodels.api as sm\n",
    "\n",
    "# data with multicollinearity\n",
    "np.random.seed(42)\n",
    "x,y = make_regression(n_samples=100,n_features=3,noise=.5,random_state=42)\n",
    "\n",
    "x[:,1] = x[:,0] + 0.5 * np.random.normal(size=100) # multicollinearity between 0 and 1 column\n",
    "\n",
    "data = pd.DataFrame(x,columns=[\"x1\",\"x2\",\"x3\"])\n",
    "data[\"y\"] = y\n",
    "\n",
    "data.corr()"
   ]
  },
  {
   "cell_type": "code",
   "execution_count": 80,
   "id": "936e5e37",
   "metadata": {},
   "outputs": [
    {
     "name": "stdout",
     "output_type": "stream",
     "text": [
      "Regression summary for the model with all the predictors\n",
      "                            OLS Regression Results                            \n",
      "==============================================================================\n",
      "Dep. Variable:                      y   R-squared:                       0.034\n",
      "Model:                            OLS   Adj. R-squared:                  0.004\n",
      "Method:                 Least Squares   F-statistic:                     1.122\n",
      "Date:                Thu, 12 Oct 2023   Prob (F-statistic):              0.344\n",
      "Time:                        13:49:55   Log-Likelihood:                -581.96\n",
      "No. Observations:                 100   AIC:                             1172.\n",
      "Df Residuals:                      96   BIC:                             1182.\n",
      "Df Model:                           3                                         \n",
      "Covariance Type:            nonrobust                                         \n",
      "==============================================================================\n",
      "                 coef    std err          t      P>|t|      [0.025      0.975]\n",
      "------------------------------------------------------------------------------\n",
      "const          5.6185      8.572      0.655      0.514     -11.397      22.634\n",
      "x1             0.9804     21.591      0.045      0.964     -41.877      43.838\n",
      "x2            13.9157     18.451      0.754      0.453     -22.710      50.542\n",
      "x3             6.8796      8.552      0.804      0.423     -10.095      23.854\n",
      "==============================================================================\n",
      "Omnibus:                        8.100   Durbin-Watson:                   2.070\n",
      "Prob(Omnibus):                  0.017   Jarque-Bera (JB):                8.233\n",
      "Skew:                           0.531   Prob(JB):                       0.0163\n",
      "Kurtosis:                       3.921   Cond. No.                         4.13\n",
      "==============================================================================\n",
      "\n",
      "Notes:\n",
      "[1] Standard Errors assume that the covariance matrix of the errors is correctly specified.\n",
      "++++++++++++++++++++++++++++++++++++++++++++++++++++++++++++++++\n",
      " \n",
      "Regression summary for the model with the predictors(x1,x3)\n",
      "                            OLS Regression Results                            \n",
      "==============================================================================\n",
      "Dep. Variable:                      y   R-squared:                       0.028\n",
      "Model:                            OLS   Adj. R-squared:                  0.008\n",
      "Method:                 Least Squares   F-statistic:                     1.405\n",
      "Date:                Thu, 12 Oct 2023   Prob (F-statistic):              0.250\n",
      "Time:                        13:49:55   Log-Likelihood:                -582.25\n",
      "No. Observations:                 100   AIC:                             1171.\n",
      "Df Residuals:                      97   BIC:                             1178.\n",
      "Df Model:                           2                                         \n",
      "Covariance Type:            nonrobust                                         \n",
      "==============================================================================\n",
      "                 coef    std err          t      P>|t|      [0.025      0.975]\n",
      "------------------------------------------------------------------------------\n",
      "const          4.8245      8.488      0.568      0.571     -12.023      21.672\n",
      "x1            15.3528     10.126      1.516      0.133      -4.744      35.450\n",
      "x3             6.7179      8.530      0.788      0.433     -10.212      23.647\n",
      "==============================================================================\n",
      "Omnibus:                        8.800   Durbin-Watson:                   2.077\n",
      "Prob(Omnibus):                  0.012   Jarque-Bera (JB):                9.219\n",
      "Skew:                           0.554   Prob(JB):                      0.00996\n",
      "Kurtosis:                       3.992   Cond. No.                         1.35\n",
      "==============================================================================\n",
      "\n",
      "Notes:\n",
      "[1] Standard Errors assume that the covariance matrix of the errors is correctly specified.\n"
     ]
    }
   ],
   "source": [
    "# adding constant terms\n",
    "data_with_constant_full = sm.add_constant(data[[\"x1\",\"x2\",\"x3\"]])\n",
    "data_with_constant_reduced = sm.add_constant(data[[\"x1\",\"x3\"]])\n",
    "\n",
    "# fitting linear model\n",
    "full_lin_model = sm.OLS(data[\"y\"],data_with_constant_full).fit()\n",
    "reduced_lin_model = sm.OLS(data[\"y\"],data_with_constant_reduced).fit()\n",
    "\n",
    "print(\"Regression summary for the model with all the predictors\")\n",
    "print(full_lin_model.summary())\n",
    "print(\"++++++++++++++++++++++++++++++++++++++++++++++++++++++++++++++++\")\n",
    "print(\" \")\n",
    "print(\"Regression summary for the model with the predictors(x1,x3)\")\n",
    "print(reduced_lin_model.summary())"
   ]
  },
  {
   "cell_type": "code",
   "execution_count": 83,
   "id": "bf97b765",
   "metadata": {},
   "outputs": [
    {
     "name": "stdout",
     "output_type": "stream",
     "text": [
      "                            OLS Regression Results                            \n",
      "==============================================================================\n",
      "Dep. Variable:                      y   R-squared:                       0.026\n",
      "Model:                            OLS   Adj. R-squared:                  0.016\n",
      "Method:                 Least Squares   F-statistic:                     2.648\n",
      "Date:                Thu, 12 Oct 2023   Prob (F-statistic):              0.107\n",
      "Time:                        14:29:52   Log-Likelihood:                -582.35\n",
      "No. Observations:                 100   AIC:                             1169.\n",
      "Df Residuals:                      98   BIC:                             1174.\n",
      "Df Model:                           1                                         \n",
      "Covariance Type:            nonrobust                                         \n",
      "==============================================================================\n",
      "                 coef    std err          t      P>|t|      [0.025      0.975]\n",
      "------------------------------------------------------------------------------\n",
      "const          3.9784      8.289      0.480      0.632     -12.471      20.428\n",
      "0             15.5602      9.563      1.627      0.107      -3.416      34.537\n",
      "==============================================================================\n",
      "Omnibus:                        9.119   Durbin-Watson:                   2.055\n",
      "Prob(Omnibus):                  0.010   Jarque-Bera (JB):                9.712\n",
      "Skew:                           0.562   Prob(JB):                      0.00778\n",
      "Kurtosis:                       4.032   Cond. No.                         1.18\n",
      "==============================================================================\n",
      "\n",
      "Notes:\n",
      "[1] Standard Errors assume that the covariance matrix of the errors is correctly specified.\n"
     ]
    }
   ],
   "source": [
    "#  \n",
    "data_x1_x2_combined = (data[\"x1\"] + data[\"x2\"])/2\n",
    "data_x1_x2_combined= sm.add_constant(data_x1_x2_combined)\n",
    "\n",
    "x1_x2_model = sm.OLS(data[\"y\"],data_x1_x2_combined).fit()\n",
    "print(x1_x2_model.summary())"
   ]
  },
  {
   "cell_type": "markdown",
   "id": "78ce857d",
   "metadata": {
    "jp-MarkdownHeadingCollapsed": true
   },
   "source": [
    "### Partial Least Square"
   ]
  },
  {
   "cell_type": "code",
   "execution_count": 84,
   "id": "b3a97b8d",
   "metadata": {},
   "outputs": [],
   "source": [
    "from sklearn.metrics import mean_squared_error\n",
    "from sklearn.model_selection import train_test_split\n",
    "from sklearn.cross_decomposition import PLSRegression"
   ]
  },
  {
   "cell_type": "code",
   "execution_count": 88,
   "id": "d7b88d75",
   "metadata": {},
   "outputs": [
    {
     "name": "stdout",
     "output_type": "stream",
     "text": [
      "Mean squared error of PLS model: 7451.899720807346\n"
     ]
    }
   ],
   "source": [
    "# split the datasets\n",
    "x_train,x_test,y_train,y_test = train_test_split(data[[\"x1\",\"x2\",\"x2\"]],data['y'],test_size=.2,random_state=42)\n",
    "\n",
    "# create PLS model and fit \n",
    "pls_model = PLSRegression(n_components=2)\n",
    "pls_model.fit(x_train,y_train)\n",
    "\n",
    "y_pred = pls_model.predict(x_test)\n",
    "mse = mean_squared_error(y_test,y_pred)\n",
    "print(\"Mean squared error of PLS model:\", mse)"
   ]
  }
 ],
 "metadata": {
  "kernelspec": {
   "display_name": "Python 3 (ipykernel)",
   "language": "python",
   "name": "python3"
  },
  "language_info": {
   "codemirror_mode": {
    "name": "ipython",
    "version": 3
   },
   "file_extension": ".py",
   "mimetype": "text/x-python",
   "name": "python",
   "nbconvert_exporter": "python",
   "pygments_lexer": "ipython3",
   "version": "3.11.5"
  }
 },
 "nbformat": 4,
 "nbformat_minor": 5
}
